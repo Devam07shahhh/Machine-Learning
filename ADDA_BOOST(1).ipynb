{
  "nbformat": 4,
  "nbformat_minor": 0,
  "metadata": {
    "colab": {
      "provenance": []
    },
    "kernelspec": {
      "name": "python3",
      "display_name": "Python 3"
    },
    "language_info": {
      "name": "python"
    }
  },
  "cells": [
    {
      "cell_type": "code",
      "source": [
        "import numpy as np\n",
        "import pandas as pd\n",
        "from sklearn.ensemble import AdaBoostClassifier\n",
        "from sklearn.tree import DecisionTreeClassifier\n",
        "from sklearn import datasets\n",
        "from sklearn.model_selection import train_test_split\n",
        "from sklearn.model_selection import cross_val_score\n",
        "from sklearn.linear_model import LogisticRegression\n",
        "from sklearn import metrics\n",
        "from sklearn.datasets import make_classification\n",
        "import seaborn as sns\n",
        "from sklearn.model_selection import KFold\n",
        "import matplotlib.pyplot as plt"
      ],
      "metadata": {
        "id": "WVUo7JyreIkv"
      },
      "execution_count": 15,
      "outputs": []
    },
    {
      "cell_type": "markdown",
      "source": [
        "Q1"
      ],
      "metadata": {
        "id": "S3Z1vO-oispJ"
      }
    },
    {
      "cell_type": "code",
      "source": [
        "X, y = make_classification(n_samples=100, n_features=6, random_state=42)\n",
        "\n",
        "X_train, X_test, y_train, y_test = train_test_split(X, y, test_size=0.3, random_state=42)"
      ],
      "metadata": {
        "id": "07iZB6Tlk0IE"
      },
      "execution_count": 16,
      "outputs": []
    },
    {
      "cell_type": "code",
      "source": [
        "kf = KFold(n_splits=5, shuffle=True, random_state=42)"
      ],
      "metadata": {
        "id": "I4nr3UD8k7Mv"
      },
      "execution_count": 17,
      "outputs": []
    },
    {
      "cell_type": "code",
      "source": [
        "dt = DecisionTreeClassifier()\n",
        "\n",
        "dt_score = cross_val_score(dt, X, y, cv=kf).mean()\n",
        "print(\"Decision Tree classifier score:\", dt_score)"
      ],
      "metadata": {
        "id": "AyTPHKulk9hl",
        "colab": {
          "base_uri": "https://localhost:8080/"
        },
        "outputId": "f204a5aa-efb1-4c4a-ddb7-d94b073a122f"
      },
      "execution_count": 18,
      "outputs": [
        {
          "output_type": "stream",
          "name": "stdout",
          "text": [
            "Decision Tree classifier score: 0.9400000000000001\n"
          ]
        }
      ]
    },
    {
      "cell_type": "code",
      "source": [
        "lr = LogisticRegression(max_iter=100)"
      ],
      "metadata": {
        "id": "hmagsBiTlAOn"
      },
      "execution_count": 19,
      "outputs": []
    },
    {
      "cell_type": "code",
      "source": [
        "lr_score = cross_val_score(lr, X, y, cv=kf).mean()\n",
        "print(\"Logistic Regression classifier score:\", lr_score)"
      ],
      "metadata": {
        "id": "1HWm4KD2lDP2",
        "colab": {
          "base_uri": "https://localhost:8080/"
        },
        "outputId": "791c9cbd-21c4-4c3c-dff4-e25ae41c73b8"
      },
      "execution_count": 20,
      "outputs": [
        {
          "output_type": "stream",
          "name": "stdout",
          "text": [
            "Logistic Regression classifier score: 0.96\n"
          ]
        }
      ]
    },
    {
      "cell_type": "code",
      "source": [
        "dt_ab = AdaBoostClassifier(estimator=dt, n_estimators=50, random_state=42)\n",
        "\n",
        "\n",
        "dt_ab_score = cross_val_score(dt_ab, X, y, cv=kf).mean()\n",
        "print(\"AdaBoost classifier with Decision Tree base learner score:\", dt_ab_score)\n"
      ],
      "metadata": {
        "id": "JcALCIuRlF_Y",
        "colab": {
          "base_uri": "https://localhost:8080/"
        },
        "outputId": "6fd3b649-4e3b-47cd-9d4a-e1abbbc04138"
      },
      "execution_count": 21,
      "outputs": [
        {
          "output_type": "stream",
          "name": "stdout",
          "text": [
            "AdaBoost classifier with Decision Tree base learner score: 0.9200000000000002\n"
          ]
        }
      ]
    },
    {
      "cell_type": "code",
      "source": [
        "lr_ab = AdaBoostClassifier(estimator=lr, n_estimators=50, random_state=42)\n",
        "\n",
        "lr_ab_score = cross_val_score(lr_ab, X, y, cv=kf).mean()\n",
        "print(\"AdaBoost classifier with Logistic Regression base learner score:\", lr_ab_score)"
      ],
      "metadata": {
        "id": "p70dOH_olJtV",
        "colab": {
          "base_uri": "https://localhost:8080/"
        },
        "outputId": "5564680a-2663-464c-f2c4-8baa037d887d"
      },
      "execution_count": 22,
      "outputs": [
        {
          "output_type": "stream",
          "name": "stdout",
          "text": [
            "AdaBoost classifier with Logistic Regression base learner score: 0.96\n"
          ]
        }
      ]
    },
    {
      "cell_type": "code",
      "source": [],
      "metadata": {
        "id": "l6IKf2JLlJ33"
      },
      "execution_count": 22,
      "outputs": []
    }
  ]
}